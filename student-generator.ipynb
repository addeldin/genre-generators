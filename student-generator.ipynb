{
 "cells": [
  {
   "attachments": {},
   "cell_type": "markdown",
   "id": "2c6c43d0",
   "metadata": {},
   "source": [
    "# Genre 1: Obituaries\n",
    "## Programming Team: Anna Ligorio, Lauren Hevron , Austin McKenna, Emily Schultz\n",
    "\n",
    "### Description\n",
    "Announcement of death, describes how/when they died, who survives them and\n",
    "funeral planning.\n",
    "\n",
    "### Key Features\n",
    "* Name\n",
    "* When, where they passed away\n",
    "* Positive personality traits\n",
    "* Accomplishments, hobbies\n",
    "* Funeral service information\n",
    "* Surviving family"
   ]
  },
  {
   "cell_type": "code",
   "execution_count": 47,
   "id": "4f2a708f",
   "metadata": {},
   "outputs": [],
   "source": [
    "# THIS HELPS US GRAB SOMETHING RANDOMLY FROM THE LISTS AND ID TIME OF DAY\n",
    "import random\n",
    "from datetime import datetime"
   ]
  },
  {
   "cell_type": "code",
   "execution_count": 30,
   "id": "1382d5c6",
   "metadata": {},
   "outputs": [],
   "source": [
    "# LISTS OF WORDS TO PULL FROM\n",
    "names = [\"John\", \"Nancy\", \"Jane\"]\n",
    "places = [\"home\", \"hospital\", \"nursing home\"]\n",
    "cities = [\"Pittsburgh\",\"Chicago\",\"New York City\"]\n",
    "adjectives_positive = [\"caring\", \"optimistic\",\"gentle\"]\n",
    "adjectives_sad = [\"disheartened\", \"saddened\", \"heartbroken\"]\n",
    "family = [\"daughter\", \"brother\", \"sister\", \"son\"]\n",
    "dates = [\"10/21/22\",\"11/18/22\",\"12/3/22\"]\n",
    "times = [\"1pm\",\"2:30pm\",\"3pm\"]\n",
    "locations = [\"Pittsburgh Funeral Home\", \"Manhattan Funeral Home\", \"DC Funeral Home\"]"
   ]
  },
  {
   "cell_type": "code",
   "execution_count": 35,
   "id": "8c973701",
   "metadata": {},
   "outputs": [
    {
     "name": "stdout",
     "output_type": "stream",
     "text": [
      "We are disheartened to announce the passing of Jane. Jane passed away at hospital in New York City.They'll always be remembered as a caring person. They are survived by a brother. A funeral service will be held in their honor at 1pm on 11/18/22 at DC Funeral Home.\n"
     ]
    }
   ],
   "source": [
    "# CHOOSING RANDOM ITEMS FROM THE LISTS\n",
    "name = random.choice(names)\n",
    "place = random.choice(places)\n",
    "city = random.choice(cities)\n",
    "adjective_positive = random.choice(adjectives_positive)\n",
    "adjective_sad = random.choice(adjectives_sad)\n",
    "fam = random.choice(family)\n",
    "date = random.choice(dates)\n",
    "time = random.choice(times)\n",
    "location = random.choice(locations)\n",
    "\n",
    "# FORMULA INSERTING THE CHOSEN ITEMS, THEN PRINTING NEW INSTANCE OF FORMULA\n",
    "formula = f\"We are {adjective_sad} to announce the passing of {name}. {name} passed away at {place} in {city}.\\\n",
    "They'll always be remembered as a {adjective_positive} person. They are survived by a {fam}. \\\n",
    "A funeral service will be held in their honor at {time} on {date} at {location}.\"\n",
    "print(formula)"
   ]
  }
 ],
 "metadata": {
  "kernelspec": {
   "display_name": "Python 3 (ipykernel)",
   "language": "python",
   "name": "python3"
  },
  "language_info": {
   "codemirror_mode": {
    "name": "ipython",
    "version": 3
   },
   "file_extension": ".py",
   "mimetype": "text/x-python",
   "name": "python",
   "nbconvert_exporter": "python",
   "pygments_lexer": "ipython3",
   "version": "3.8.13"
  }
 },
 "nbformat": 4,
 "nbformat_minor": 5
}
