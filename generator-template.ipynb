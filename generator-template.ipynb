{
 "cells": [
  {
   "attachments": {},
   "cell_type": "markdown",
   "metadata": {},
   "source": [
    "# Genre: [Genre Title]\n",
    "## Programming Team: [Student Names]\n",
    "\n",
    "### Description\n",
    "[Quote or paraphrase the description of the genre written by the students in their programming document.]\n",
    "\n",
    "### Key Features\n",
    "* [first key feature identified and represented in code]\n",
    "* [...]\n",
    "* [*n*th key feature identified and represented in code]\n",
    "* [key features identified and *not* represented in code]"
   ]
  },
  {
   "cell_type": "code",
   "execution_count": 1,
   "metadata": {},
   "outputs": [],
   "source": [
    "# IMPORTS ALLOW US TO USE PRE-AUTHORED CODE IN OUR OWN PROGRAMS\n",
    "# [DESCRIBE THE ROLE OF EACH IMPORT BRIEFLY; E.G. \"THE RANDOM MODULE LETS US CHOOSE A RANDOM ITEM FROM A LIST\"]\n",
    "import random"
   ]
  },
  {
   "cell_type": "code",
   "execution_count": 4,
   "metadata": {},
   "outputs": [],
   "source": [
    "# LISTS OF WORDS TO PULL FROM\n",
    "# [SOME SAMPLE LISTS ARE INCLUDED BELOW]\n",
    "# [I RECOMMEND PLURALIZING THE LIST NAME SO YOU CAN USE THE SINGULAR VERSION FOR THE VARIABLE THAT CHOOSES AN ITEM FROM THE LIST]\n",
    "list1 = [\"item1\", \"item2\", \"item3\"]\n",
    "list2 = [\"item1\", \"item2\", \"item3\"]\n",
    "jobs = [\"carpenter\", \"nurse\", \"electrician\", \"game designer\"]\n",
    "instruments = [\"guitar\", \"synthesizer\", \"theremin\"]\n",
    "sentiments = [\"loves\", \"hates\", \"impatiently abides\"]"
   ]
  },
  {
   "cell_type": "code",
   "execution_count": 9,
   "metadata": {},
   "outputs": [
    {
     "name": "stdout",
     "output_type": "stream",
     "text": [
      "We are looking to hire a game designer that impatiently abides people who play the theremin.\n"
     ]
    }
   ],
   "source": [
    "# [THE SELECTION OF ITEMS FROM THE LISTS AND STRING TEMPLATE THAT IS OUTPUTTED EACH TIME THIS CELL IS RUN ARE PLACED TOGETHER SO THAT A NEW ELEMENT IS CHOSEN FOR EACH ITERATION]\n",
    "\n",
    "# CHOOSING RANDOM ITEMS FROM THE LISTS\n",
    "job = random.choice(jobs)\n",
    "instrument = random.choice(instruments)\n",
    "sentiment = random.choice(sentiments)\n",
    "\n",
    "# FORMULA INSERTING THE CHOSEN ITEMS, THEN PRINTING NEW INSTANCE OF FORMULA\n",
    "# [YOU WILL NEED TO REPLACE THE FORMULA BASED ON THE TEMPLATE CREATED BY STUDENTS]\n",
    "formula = f\"We are looking to hire a {job} that {sentiment} people who play the {instrument}.\"\n",
    "print(formula)"
   ]
  }
 ],
 "metadata": {
  "kernelspec": {
   "display_name": "base",
   "language": "python",
   "name": "python3"
  },
  "language_info": {
   "codemirror_mode": {
    "name": "ipython",
    "version": 3
   },
   "file_extension": ".py",
   "mimetype": "text/x-python",
   "name": "python",
   "nbconvert_exporter": "python",
   "pygments_lexer": "ipython3",
   "version": "3.8.16"
  },
  "orig_nbformat": 4,
  "vscode": {
   "interpreter": {
    "hash": "3a1497ea315057e9a04cb207f67534bfc24b5c1b4fab00fc7c126f54fbf1644b"
   }
  }
 },
 "nbformat": 4,
 "nbformat_minor": 2
}
